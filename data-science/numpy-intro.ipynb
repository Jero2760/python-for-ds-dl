{
 "cells": [
  {
   "cell_type": "markdown",
   "metadata": {},
   "source": [
    "\n",
    "<h2 id=\"Numpy-Tutorial\">Numpy Tutorial<a class=\"anchor-link\" href=\"#Numpy-Tutorial\"></a></h2>\n"
   ]
  },
  {
   "cell_type": "markdown",
   "metadata": {},
   "source": [
    "<h3 id=\"Introduction\">Introduction<a class=\"anchor-link\" href=\"#Introduction\"></a></h3>"
   ]
  },
  {
   "cell_type": "markdown",
   "metadata": {},
   "source": [
    "<p>NumPy is a module for Python. The name is an acronym for \"Numeric Python\" or \"Numerical Python\". It is pronounced  /ˈnʌmpaɪ/ (NUM-py) or less often /ˈnʌmpi (NUM-pee)). It is an extension module for Python, mostly written in C. This makes sure that the precompiled mathematical and numerical functions and functionalities of Numpy guarantee great execution speed.</p>\n",
    "<p>Furthermore, NumPy enriches the programming language Python with powerful data structures, implementing multi-dimensional arrays and matrices. These data structures guarantee efficient calculations with matrices and arrays. The implementation is even aiming at huge matrices and arrays, better know under the heading of \"big data\". Besides that the module supplies a large library of high-level mathematical functions to operate on these matrices and arrays.</p>\n",
    "<p>SciPy (Scientific Python) is often mentioned in the same breath with NumPy. SciPy needs Numpy, as it is based on the data structures of Numpy and furthermore its basic creation and manipulation functions. It extends the capabilities  of NumPy with further useful functions for minimization, regression, Fourier-transformation and many others.</p>\n",
    "<p>Both NumPy and SciPy are not part of a basic Python installation. They have to be installed after the Python installation. NumPy has to be installed before installing SciPy.</p>\n",
    "<p>(Comment: The diagram of the image on the right side is the graphical visualisation of a matrix with 14 rows and 20 columns. It's a so-called Hinton diagram. The size of a square within this diagram corresponds to the size of the value of the depicted matrix. The colour determines, if the value is positive or negative. In our example: the colour red denotes negative values and the colour green denotes positive values.)</p>\n",
    "<p>NumPy is based on two earlier Python modules dealing with arrays. One of these is Numeric. Numeric is like NumPy a Python module for high-performance, numeric computing, but it is obsolete nowadays. Another predecessor of NumPy is Numarray, which is a complete rewrite of Numeric but is deprecated as well. NumPy is a merger of those two, i.e. it is build on the code of Numeric and the features of Numarray.</p>\n",
    "\n"
   ]
  },
  {
   "cell_type": "markdown",
   "metadata": {},
   "source": [
    "<h3 id=\"Comparison-between-Core-Python-and-Numpy\">Comparison between Core Python and Numpy<a class=\"anchor-link\" href=\"#Comparison-between-Core-Python-and-Numpy\"></a></h3>"
   ]
  },
  {
   "cell_type": "markdown",
   "metadata": {},
   "source": [
    "\n",
    "<p>When we say \"Core Python\", we mean Python without any special modules, i.e. especially without NumPy.</p>\n",
    "<p>The advantages of Core Python:</p>\n",
    "<ul>\n",
    "<li>high-level number objects: integers, floating point</li>\n",
    "<li>containers: \n",
    "lists with cheap insertion and append methods, \n",
    "dictionaries with fast lookup</li>\n",
    "</ul>\n",
    "<p>Advantages of using Numpy with Python:</p>\n",
    "<ul>\n",
    "<li>array oriented computing</li>\n",
    "<li>efficiently implemented multi-dimensional arrays</li>\n",
    "<li>designed for scientific computation</li>\n",
    "</ul>\n",
    "\n"
   ]
  },
  {
   "cell_type": "markdown",
   "metadata": {},
   "source": [
    "<h3 id=\"A-Simple-Numpy-Example\">A Simple Numpy Example<a class=\"anchor-link\" href=\"#A-Simple-Numpy-Example\"></a></h3>"
   ]
  },
  {
   "cell_type": "markdown",
   "metadata": {},
   "source": [
    "\n",
    "<p>Before we can use NumPy we will have to import it. It has to be imported like any other module:</p>\n",
    "\n"
   ]
  },
  {
   "cell_type": "code",
   "execution_count": null,
   "metadata": {},
   "outputs": [],
   "source": [
    "import numpy"
   ]
  },
  {
   "cell_type": "markdown",
   "metadata": {},
   "source": [
    "\n",
    "<p>But you will hardly ever see this. Numpy is usually renamed to np:</p>\n",
    "\n"
   ]
  },
  {
   "cell_type": "code",
   "execution_count": null,
   "metadata": {},
   "outputs": [],
   "source": [
    "import numpy as np   "
   ]
  },
  {
   "cell_type": "markdown",
   "metadata": {},
   "source": [
    "\n",
    "<p>Our first simple Numpy example deals with temperatures. Given is  a list with values, e.g. temperatures in Celsius:</p>\n",
    "\n"
   ]
  },
  {
   "cell_type": "code",
   "execution_count": null,
   "metadata": {},
   "outputs": [],
   "source": [
    "cvalues = [20.1, 20.8, 21.9, 22.5, 22.7, 22.3, 21.8, 21.2, 20.9, 20.1]  "
   ]
  },
  {
   "cell_type": "markdown",
   "metadata": {},
   "source": [
    "\n",
    "<p>We will turn our list \"cvalues\" into a one-dimensional numpy array:</p>\n",
    "\n"
   ]
  },
  {
   "cell_type": "code",
   "execution_count": null,
   "metadata": {},
   "outputs": [],
   "source": [
    "C = np.array(cvalues)\n",
    "print(C)    "
   ]
  },
  {
   "cell_type": "code",
   "execution_count": null,
   "metadata": {},
   "outputs": [],
   "source": [
    "print(C * 9 / 5 + 32)    "
   ]
  },
  {
   "cell_type": "markdown",
   "metadata": {},
   "source": [
    "\n",
    "<p>The array C has not been changed by this expression:</p>\n",
    "\n"
   ]
  },
  {
   "cell_type": "code",
   "execution_count": null,
   "metadata": {},
   "outputs": [],
   "source": [
    "print(C)    "
   ]
  },
  {
   "cell_type": "markdown",
   "metadata": {},
   "source": [
    "\n",
    "<p>Compared to this, the solution for our Python list looks awkward:</p>\n",
    "\n"
   ]
  },
  {
   "cell_type": "code",
   "execution_count": null,
   "metadata": {},
   "outputs": [],
   "source": [
    "fvalues = [ x*9/5 + 32 for x in cvalues] \n",
    "print(fvalues)    "
   ]
  },
  {
   "cell_type": "markdown",
   "metadata": {},
   "source": [
    "\n",
    "<p>So far, we referred to C as an array. The internal type is \"ndarray\" or to be even more precise \"C is an instance of the class numpy.ndarray\":</p>\n",
    "\n"
   ]
  },
  {
   "cell_type": "code",
   "execution_count": null,
   "metadata": {},
   "outputs": [],
   "source": [
    "type(C)   "
   ]
  },
  {
   "cell_type": "markdown",
   "metadata": {},
   "source": [
    "\n",
    "<p>In the following, we will use the terms \"array\" and \"ndarray\" in most cases synonymously.</p>\n",
    "\n"
   ]
  },
  {
   "cell_type": "markdown",
   "metadata": {},
   "source": [
    "<h3 id=\"Graphical-Representation-of-the-Values\">Graphical Representation of the Values<a class=\"anchor-link\" href=\"#Graphical-Representation-of-the-Values\"></a></h3><p>Even though we want to cover the module matplotlib not until a later chapter, we want to demonstrate how we can use this module to depict our temperature values. To do this, we us the package pyplot from matplotlib.</p>\n",
    "<p>If you use the jupyter notebook, you might be well advised to include the following line of code to prevent an external window to pop up and to have your diagram included in the notebook:</p>"
   ]
  },
  {
   "cell_type": "code",
   "execution_count": null,
   "metadata": {},
   "outputs": [],
   "source": [
    "%matplotlib inline"
   ]
  },
  {
   "cell_type": "markdown",
   "metadata": {},
   "source": [
    "\n",
    "<p>The code to generate a plot for our values looks like this:</p>\n",
    "\n"
   ]
  },
  {
   "cell_type": "code",
   "execution_count": null,
   "metadata": {},
   "outputs": [],
   "source": [
    "import matplotlib.pyplot as plt\n",
    "\n",
    "plt.plot(C)\n",
    "plt.show()    "
   ]
  },
  {
   "cell_type": "markdown",
   "metadata": {},
   "source": [
    "\n",
    "<p>The function plot uses the values of the array C for the values of the ordinate, i.e. the y-axis. The indices of the array C are taken as values for the abscissa, i.e. the x-axis.</p>\n",
    "\n"
   ]
  },
  {
   "cell_type": "markdown",
   "metadata": {},
   "source": [
    "<h3 id=\"Memory-Consumption:-ndarray-and-list\">Memory Consumption: ndarray and list<a class=\"anchor-link\" href=\"#Memory-Consumption:-ndarray-and-list\"></a></h3><p>The main benefits of using numpy arrays should be smaller memory consumption and better runtime behaviour. We want to look at the memory usage of numpy arrays in this subchapter of our turorial and compare it to the memory consumption of Python lists.</p>\n",
    "<p>To calculate the memory consumption of the list from the above picture, we will use the function getsizeof from the module sys.</p>"
   ]
  },
  {
   "cell_type": "code",
   "execution_count": null,
   "metadata": {},
   "outputs": [],
   "source": [
    "from sys import getsizeof as size\n",
    "\n",
    "lst = [24, 12, 57]\n",
    "\n",
    "size_of_list_object = size(lst)   # only green box\n",
    "size_of_elements = len(lst) * size(lst[0]) # 24, 12, 57\n",
    "\n",
    "total_list_size = size_of_list_object + size_of_elements\n",
    "print(\"Size without the size of the elements: \", size_of_list_object)\n",
    "print(\"Size of all the elements: \", size_of_elements)\n",
    "print(\"Total size of list, including elements: \", total_list_size)    "
   ]
  },
  {
   "cell_type": "markdown",
   "metadata": {},
   "source": [
    "\n",
    "<p>The size of a Python list consists of the general list information, the size needed for the references to the elements and the size of all the elements of the list. If we apply sys.getsizeof to a list, we get only the size without the size of the elements. In the previous example, we made the assumption that all the integer elements of our list have the same size. Of course, this is not valid in general, because memory consumption will be higher for larger integers.</p>\n",
    "<p>We will check now, how the memory usage changes, if we add another integer element to the list. We also look at an empty list:</p>\n",
    "\n"
   ]
  },
  {
   "cell_type": "code",
   "execution_count": null,
   "metadata": {},
   "outputs": [],
   "source": [
    "\n",
    "lst = [24, 12, 57, 42]\n",
    "\n",
    "size_of_list_object = size(lst)   # only green box\n",
    "size_of_elements = len(lst) * size(lst[0]) # 24, 12, 57, 42\n",
    "\n",
    "total_list_size = size_of_list_object + size_of_elements\n",
    "print(\"Size without the size of the elements: \", size_of_list_object)\n",
    "print(\"Size of all the elements: \", size_of_elements)\n",
    "print(\"Total size of list, including elements: \", total_list_size)\n",
    " \n",
    "lst = []\n",
    "print(\"Emtpy list size: \", size(lst))\n",
    "\n",
    "\n",
    "    "
   ]
  },
  {
   "cell_type": "markdown",
   "metadata": {},
   "source": [
    "\n",
    "<p>We can conclude from this that for every new element, we need another eight bytes for the reference to the new object. The new integer object itself consumes 28 bytes. The size of a list \"lst\" without the size of the elements can be calculated with:</p>\n",
    "<p>64 + 8 * len(lst)</p>\n",
    "<p>To get the complete size of an arbitrary list of integers, we have to add the sum of all the sizes of the integers.</p>\n",
    "\n"
   ]
  },
  {
   "cell_type": "code",
   "execution_count": null,
   "metadata": {},
   "outputs": [],
   "source": [
    "\n",
    "<p>We will examine now the memory consumption of a numpy.array. To this purpose, we will have a look at the implementation in the following picture:</p>\n",
    "<p><img alt=\"Numpy arrays: internal memory structure\" src=\"images/array_structure.png\" width=\"85%\"/></p>\n",
    "\n"
   ]
  },
  {
   "cell_type": "markdown",
   "metadata": {},
   "source": [
    "\n",
    "<p>We will create the numpy array of the previous diagram and calculate the memory usage:</p>\n",
    "\n"
   ]
  },
  {
   "cell_type": "code",
   "execution_count": null,
   "metadata": {},
   "outputs": [],
   "source": [
    "\n",
    "a = np.array([24, 12, 57])\n",
    "print(size(a))\n",
    "\n",
    "\n",
    "    "
   ]
  },
  {
   "cell_type": "markdown",
   "metadata": {},
   "source": [
    "\n",
    "<p>We get the memory usage for the general array information by creating an empty array:</p>\n",
    "\n"
   ]
  },
  {
   "cell_type": "code",
   "execution_count": null,
   "metadata": {},
   "outputs": [],
   "source": [
    "\n",
    "e = np.array([])\n",
    "print(size(e))\n",
    "\n",
    "\n",
    "    "
   ]
  },
  {
   "cell_type": "markdown",
   "metadata": {},
   "source": [
    "\n",
    "<p>We can see that the difference between the empty array \"e\" and the array \"a\" with three integers consists in 24 Bytes. This means that an arbitrary integer array of length \"n\" in numpy needs</p>\n",
    "<p>96 + n * 8 Bytes</p>\n",
    "<p>whereas a list of integers needs, as we have seen before</p>\n",
    "<p>64 + 8 <em> len(lst) + len(lst) </em> 28</p>\n",
    "<p>This is a minimum estimation, as Python integers can use more than 28 bytes.</p>\n",
    "<p>When we define a Numpy array, numpy automatically chooses a fixed integer size. In our example \"int64\". We can determine the size of the integers, when we define an array. Needless to say, this changes the memory requirement:</p>\n",
    "\n"
   ]
  },
  {
   "cell_type": "code",
   "execution_count": null,
   "metadata": {},
   "outputs": [],
   "source": [
    "\n",
    "a = np.array([24, 12, 57], np.int8)\n",
    "print(size(a) - 96)\n",
    "\n",
    "a = np.array([24, 12, 57], np.int16)\n",
    "print(size(a) - 96)\n",
    "\n",
    "a = np.array([24, 12, 57], np.int32)\n",
    "print(size(a) - 96)\n",
    "\n",
    "a = np.array([24, 12, 57], np.int64)\n",
    "print(size(a) - 96)\n",
    "\n",
    "\n",
    "    "
   ]
  },
  {
   "cell_type": "markdown",
   "metadata": {},
   "source": [
    "\n",
    "<p><br/><br/></p>\n",
    "<h3 id=\"Time-Comparison-between-Python-Lists-and-Numpy-Arrays\">Time Comparison between Python Lists and Numpy Arrays<a class=\"anchor-link\" href=\"#Time-Comparison-between-Python-Lists-and-Numpy-Arrays\"></a></h3><p>One of the main advantages of NumPy is its advantage in time compared to standard Python. \n",
    "Let's look at the following functions:</p>\n",
    "\n"
   ]
  },
  {
   "cell_type": "code",
   "execution_count": null,
   "metadata": {},
   "outputs": [],
   "source": [
    "\n",
    "import time\n",
    "size_of_vec = 1000\n",
    "\n",
    "def pure_python_version():\n",
    "    t1 = time.time()\n",
    "    X = range(size_of_vec)\n",
    "    Y = range(size_of_vec)\n",
    "    Z = [X[i] + Y[i] for i in range(len(X)) ]\n",
    "    return time.time() - t1\n",
    "\n",
    "def numpy_version():\n",
    "    t1 = time.time()\n",
    "    X = np.arange(size_of_vec)\n",
    "    Y = np.arange(size_of_vec)\n",
    "    Z = X + Y\n",
    "    return time.time() - t1\n",
    "\n",
    "\n",
    "    "
   ]
  },
  {
   "cell_type": "markdown",
   "metadata": {},
   "source": [
    "\n",
    "<p>Let's call these functions and see the time consumption:</p>\n",
    "\n"
   ]
  },
  {
   "cell_type": "code",
   "execution_count": null,
   "metadata": {},
   "outputs": [],
   "source": [
    "\n",
    "t1 = pure_python_version()\n",
    "t2 = numpy_version()\n",
    "\n",
    "print(t1, t2)\n",
    "print(\"Numpy is in this example \" + str(t1/t2) + \" faster!\")\n",
    "\n",
    "\n",
    "    "
   ]
  },
  {
   "cell_type": "markdown",
   "metadata": {},
   "source": [
    "\n",
    "<p>It's an easier and above all better way to measure the times by using the timeit module. We will use the Timer class in the following script.</p>\n",
    "<p>The constructor of a Timer object takes a statement to be timed, an additional statement used for setup, and a timer function.  Both statements default to 'pass'.</p>\n",
    "<p>The statements may contain newlines, as long as they don't contain\n",
    "multi-line string literals.</p>\n",
    "<p>A Timer object has a timeit method. timeit is called with a parameter number:</p>\n",
    "<p>$timeit(number=1000000)$</p>\n",
    "<p>The main statement will be executed \"number\" times. This executes the setup statement once, and then returns the time it takes to execute the main statement a \"number\" of times. It returns the time in seconds.</p>\n",
    "\n"
   ]
  },
  {
   "cell_type": "code",
   "execution_count": null,
   "metadata": {},
   "outputs": [],
   "source": [
    "\n",
    "import numpy as np\n",
    "from timeit import Timer\n",
    "\n",
    "size_of_vec = 1000\n",
    "\n",
    "X_list = range(size_of_vec)\n",
    "Y_list = range(size_of_vec)\n",
    "\n",
    "X = np.arange(size_of_vec)\n",
    "Y = np.arange(size_of_vec)\n",
    "\n",
    "def pure_python_version():\n",
    "    Z = [X_list[i] + Y_list[i] for i in range(len(X_list)) ]\n",
    "\n",
    "def numpy_version():\n",
    "    Z = X + Y\n",
    "\n",
    "\n",
    "#timer_obj = Timer(\"x = x + 1\", \"x = 0\")\n",
    "timer_obj1 = Timer(\"pure_python_version()\", \n",
    "                   \"from __main__ import pure_python_version\")\n",
    "timer_obj2 = Timer(\"numpy_version()\", \n",
    "                   \"from __main__ import numpy_version\")\n",
    "\n",
    "print(timer_obj1.timeit(10))\n",
    "print(timer_obj2.timeit(10))\n",
    "\n",
    "\n",
    "    "
   ]
  },
  {
   "cell_type": "markdown",
   "metadata": {},
   "source": [
    "\n",
    "<p>The repeat() method is a convenience to call timeit() multiple times and return a list of results:</p>\n",
    "\n"
   ]
  },
  {
   "cell_type": "code",
   "execution_count": null,
   "metadata": {},
   "outputs": [],
   "source": [
    "\n",
    "print(timer_obj1.repeat(repeat=3, number=10))\n",
    "print(timer_obj2.repeat(repeat=3, number=10))\n",
    "\n",
    "\n",
    "    "
   ]
  }
 ],
 "metadata": {
  "kernelspec": {
   "display_name": "Python 3",
   "language": "python",
   "name": "python3"
  },
  "language_info": {
   "codemirror_mode": {
    "name": "ipython",
    "version": 3
   },
   "file_extension": ".py",
   "mimetype": "text/x-python",
   "name": "python",
   "nbconvert_exporter": "python",
   "pygments_lexer": "ipython3",
   "version": "3.7.0"
  }
 },
 "nbformat": 4,
 "nbformat_minor": 1
}
