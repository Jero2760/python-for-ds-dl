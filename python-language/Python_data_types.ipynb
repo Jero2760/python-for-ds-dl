{
 "cells": [
  {
   "cell_type": "markdown",
   "metadata": {
    "cell_id": "5ca04a4d-4fa4-498a-bee8-02d1b53df56c"
   },
   "source": [
    "<h1 id=\"7464\">\n",
    "Python Data Types\n",
    "</h1>\n",
    "<img src=\"https://miro.medium.com/max/1400/1*7EUX9QIjq2x1JyFKcjhXsA.png\"/>\n",
    "<p id=\"1c30\">\n",
    "In Python, we have many data types. The most common ones are float (floating point), int (integer), str (string), bool (Boolean), list, and dict (dictionary).\n",
    "</p>\n",
    "<ul>\n",
    "<li id=\"2c2e\">\n",
    "float - used for real numbers.\n",
    "</li>\n",
    "<li id=\"a366\">\n",
    "int - used for integers.\n",
    "</li>\n",
    "<li id=\"1a7f\">\n",
    "str - used for texts. We can define strings using single quotes <code>'value'</code>, double quotes <code>\"value\"</code>, or triple quotes <code>\"\"\"value\"\"\"</code>. The triple quoted strings can be on multiple lines, the new lines will be included in the value of the variable. They’re also used for writing function documentation.\n",
    "</li>\n",
    "<li id=\"9187\">\n",
    "bool - used for truthy values. Useful to perform a filtering operation on a data.\n",
    "</li>\n",
    "<li id=\"56a0\">\n",
    "list - used to store a collection of values.\n",
    "</li>\n",
    "<li id=\"0107\">\n",
    "dict - used to store a key-values pairs.\n",
    "</li>\n",
    "</ul>\n",
    "<p id=\"57ee\">\n",
    "We can use the <code>type(variable_name)</code> function to check the type of a specific variable. Operators in Python behave differently depending on the variable’s type and there are different built-in methods for each one.\n",
    "</p>\n",
    "<p id=\"d207\">\n",
    "Here we can look at some examples with creating a floating points, intergers, strings and booleans in Python.\n",
    "</p>"
   ]
  },
  {
   "cell_type": "code",
   "execution_count": 1,
   "metadata": {
    "cell_id": "0feccb01-63fd-49c4-b10d-90b2401ff89a",
    "tags": []
   },
   "outputs": [
    {
     "name": "stdout",
     "output_type": "stream",
     "text": [
      "<class 'int'> <class 'float'> <class 'str'> <class 'bool'>\n"
     ]
    }
   ],
   "source": [
    "year_of_birth = 1994\n",
    "height_cm = 170.50\n",
    "subject = \"Data Science\"\n",
    "is_success = True\n",
    "\n",
    "print(type(year_of_birth), type(height_cm), type(subject), type(is_success))"
   ]
  },
  {
   "cell_type": "markdown",
   "metadata": {
    "cell_id": "5d63f083-34c2-48aa-8583-32b40ebc0c73",
    "tags": []
   },
   "source": [
    "<h1 id=\"a308\">\n",
    "Python Lists\n",
    "</h1>\n",
    "<p id=\"2182\">\n",
    "Python list is a basic sequence type. We can use this type to store a collection of values. One list can contain values of\n",
    "<strong>\n",
    "any type\n",
    "</strong>\n",
    ". It is possible that one list contains another nested lists for its values. It’s not commonly used, but you can have a list with a mix of Python types. You can create a new one using square brackets like this:</p>\n",
    "<p id=\"da02\"><code>fruits = [\"pineapple\", \"apple\", \"lemon\", \"strawberry\", \"orange\", \"kiwi\"]</code></p>\n",
    "<h2 id=\"e372\">\n",
    "Subsetting Lists\n",
    "</h2>\n",
    "<p id=\"abda\">\n",
    "You can use indexes to get element or elements from the list. In Python, the indexes start from <code>0.</code> Therefore, the first element in the list will have an index <code>0</code>. We can also use negative indexes to access elements. The last element in the list will have an index <code>-1</code>, the one before the last one will have an index <code>-2</code> and so on. We have also something called <strong>list slicing</strong> in Python which can be used to get multiple elements from a list. We can use it like this: <code>sliceable[start_index:end_index:step].</code></p>\n",
    "<ul>\n",
    "<li id=\"b202\">\n",
    "The <code>start_index</code>is the beginning index of the slice, the element at this index will be included to the result, the default value is <code>0</code>.\n",
    "</li>\n",
    "<li id=\"e1d3\">\n",
    "The <code>end_index</code> is the end index of the slice, the element at this index will<strong>not be included</strong> to the result, the default value will be the <code>length of the list</code>. Also, the default value can be <code>- length of the list -1</code> if the step is negative. If you skip this, you will get all the elements from the start index to the end.\n",
    "</li>\n",
    "<li id=\"2875\">\n",
    "The <code>step</code> is the amount by which the index increases,<br/>the default value is <code>1</code>. If we set a negative value for the step, we’ll move backward.\n",
    "</li>\n",
    "</ul>"
   ]
  },
  {
   "cell_type": "code",
   "execution_count": 4,
   "metadata": {
    "cell_id": "35944be1-2d2e-4876-9011-5e260c54faa7",
    "tags": []
   },
   "outputs": [
    {
     "data": {
      "text/plain": [
       "['pineapple', 'lemon', 'orange']"
      ]
     },
     "execution_count": 4,
     "metadata": {},
     "output_type": "execute_result"
    }
   ],
   "source": [
    "fruits = [\"pineapple\", \"apple\", \"lemon\", \"strawberry\", \"orange\", \"kiwi\"]\n",
    "fruits[1]  # apple\n",
    "fruits[0]  # \"pineapple\"\n",
    "fruits[-1] # \"kiwi\"\n",
    "fruits[5]  # \"kiwi\"\n",
    "fruits[-3] # \"strawberry\"\n",
    "\n",
    "# List slicing\n",
    "fruits[::]    # [\"pineapple\", \"apple\", \"lemon\", \"strawberry\", \"orange\", \"kiwi\"]\n",
    "fruits[0:2]   # [\"pineapple\", \"apple\"]\n",
    "fruits[-2:-1] # [\"orange\"]\n",
    "fruits[3:]    # [\"strawberry\", \"orange\", \"kiwi\"]\n",
    "fruits[:4]    # [\"pineapple\", \"apple\", \"lemon\", \"strawberry\"]\n",
    "fruits[:]     # [\"pineapple\", \"apple\", \"lemon\", \"strawberry\", \"orange\", \"kiwi\"]\n",
    "fruits[::-1]  # [\"kiwi\", \"orange\", \"strawberry\", \"lemon\", \"apple\", \"pineapple\"]\n",
    "fruits[::-2]  # [\"kiwi\", \"strawberry\", \"apple\"]\n",
    "fruits[::2]   # [\"pineapple\", \"lemon\", \"orange\"]"
   ]
  },
  {
   "cell_type": "markdown",
   "metadata": {
    "cell_id": "18e2f862-d1da-4bd7-8704-672958d41525",
    "tags": []
   },
   "source": [
    "<h2 id=\"3916\">\n",
    "List Manipulation\n",
    "</h2>\n",
    "<ul>\n",
    "<li id=\"b899\">\n",
    "We can add element or elements to a list using <code>append</code> method or by using the <code>plus operator</code>. If you’re using the plus operator on two lists, Python will give a new list of the contents of the two lists.\n",
    "</li>\n",
    "<li id=\"24ae\">\n",
    "We can change element or elements to list using the same square brackets that we already used for indexing and list slicing.\n",
    "</li>\n",
    "<li id=\"40ba\">\n",
    "We can delete an element from a list with the <code>remove(value)</code>method. This method will delete the first element of the list with the passed value.\n",
    "</li>\n",
    "</ul>"
   ]
  },
  {
   "cell_type": "code",
   "execution_count": null,
   "metadata": {
    "cell_id": "67ab71f5-ae4e-424f-a2b9-164834e10b48",
    "tags": []
   },
   "outputs": [],
   "source": [
    "# Add values to a list\n",
    "fruits.append(\"peach\")\n",
    "fruits # [\"pineapple\", \"apple\", \"lemon\", \"strawberry\", \"orange\", \"kiwi\", \"peach\"]\n",
    "fruits = fruits + [\"fig\", \"melon\"]\n",
    "fruits # [\"pineapple\", \"apple\", \"lemon\", \"strawberry\", \"orange\", \"kiwi\", \"peach\", \"fig\", \"melon\"]\n",
    "\n",
    "# Change values from a list\n",
    "fruits[0:2] = [\"grape\", \"mango\"]\n",
    "fruits # [\"grape\", \"mango\", \"lemon\", \"strawberry\", \"orange\", \"kiwi\", \"peach\", \"fig\", \"melon\"]\n",
    "\n",
    "# Delete values from a list\n",
    "fruits.remove(\"mango\")\n",
    "fruits # [\"grape\", \"lemon\", \"strawberry\", \"orange\", \"kiwi\", \"peach\", \"fig\", \"melon\"]"
   ]
  },
  {
   "cell_type": "markdown",
   "metadata": {
    "cell_id": "e2c03e3c-0381-4c59-bc20-226b7f8c14bd",
    "tags": []
   },
   "source": [
    "<p id=\"6b4e\">\n",
    "It’s important to understand how lists work behind the scenes in Python. When you create a new list <code>my_list</code>, you’re storing the list in your computer memory, and the address of that list is stored in the <code>my_list</code> variable. The variable <code>my_list</code> doesn’t contain the elements of the list. It contains a reference to the list. If we copy a list with the equal sign only like this <code>my_list_copy = my_list</code>, you’ll have the reference copied in the <code>my_list_copy</code> variable instead of the list values. So, if you want to copy the actual values, you can use the <code>list(my_list)</code> function or slicing <code>[:]</code>.\n",
    "</p>"
   ]
  },
  {
   "cell_type": "code",
   "execution_count": 6,
   "metadata": {
    "cell_id": "0dc1beb0-d950-4372-b5b0-cb5f9fe5a8cc",
    "tags": []
   },
   "outputs": [
    {
     "data": {
      "text/plain": [
       "['A', 'B', 'D']"
      ]
     },
     "execution_count": 6,
     "metadata": {},
     "output_type": "execute_result"
    }
   ],
   "source": [
    "numbers = [10, 42, 28, 420]\n",
    "numbers_copy = numbers\n",
    "numbers_copy[2] = 100\n",
    "numbers      # [10, 42, 100, 420]\n",
    "numbers_copy # [10, 42, 100, 420]\n",
    "\n",
    "ratings = [4.5, 5.0, 3.5, 4.75, 4.00]\n",
    "ratings_copy = ratings[:]\n",
    "ratings_copy[0] = 2.0\n",
    "ratings      # [4.5, 5.0, 3.5, 4.75, 4.0]\n",
    "ratings_copy # [2.0, 5.0, 3.5, 4.75, 4.0]\n",
    "\n",
    "characters = [\"A\", \"B\", \"C\"]\n",
    "characters_copy = list(characters)\n",
    "characters_copy[-1] = \"D\"\n",
    "characters      # [\"A\", \"B\", \"C\"]\n",
    "characters_copy # [\"A\", \"B\", \"D\"]"
   ]
  },
  {
   "cell_type": "markdown",
   "metadata": {
    "cell_id": "541b9cb6-19aa-4eea-95b2-f1f57639346a",
    "tags": []
   },
   "source": [
    "<h1 id=\"5c62\">\n",
    "Python Dictionaries\n",
    "</h1>\n",
    "<p id=\"ea53\">\n",
    "The dictionaries are used to store\n",
    "<strong>\n",
    "key-value pairs\n",
    "</strong>\n",
    ". They are helpful when you want your values to be indexed by\n",
    "<strong>\n",
    "unique keys\n",
    "</strong>\n",
    ". In Python, you can create a dictionary using\n",
    "<strong>\n",
    "curly braces\n",
    "</strong>\n",
    ". Also, a key and a value are separated by a\n",
    "<strong>\n",
    "colon\n",
    "</strong>\n",
    ". If we want to get the value for a given key, we can do it like that: <code>our_dict[key]</code>.\n",
    "</p>\n",
    "<h2 id=\"d159\">\n",
    "Dictionaries vs Lists\n",
    "</h2>\n",
    "<p id=\"a0f6\">\n",
    "Let’s see an example and compare the lists versus dictionaries. Imagine that we have some movies and you want to store the ratings for them. Also, we want to access the rating for a movie very fast by having the movie name. We can do this by using two lists or one dictionary. In examples the <code>movies.index(“Ex Machina”)</code>code returns the index for the “Ex Machina” movie.\n",
    "</p>"
   ]
  },
  {
   "cell_type": "code",
   "execution_count": 7,
   "metadata": {
    "cell_id": "e67cc948-ec8a-4396-9fe9-d9c67f3ea77a",
    "tags": []
   },
   "outputs": [
    {
     "name": "stdout",
     "output_type": "stream",
     "text": [
      "7.7\n"
     ]
    }
   ],
   "source": [
    "movies = [\"Ex Machina\", \"Mad Max: Fury Road\", \"1408\"]\n",
    "ratings = [7.7, 8.1, 6.8]\n",
    "\n",
    "movie_choice_index = movies.index(\"Ex Machina\")\n",
    "print(ratings[movie_choice_index]) # 7.7"
   ]
  },
  {
   "cell_type": "code",
   "execution_count": 8,
   "metadata": {
    "cell_id": "dff855b3-2dc6-438c-9532-b7d68782fb10",
    "tags": []
   },
   "outputs": [
    {
     "name": "stdout",
     "output_type": "stream",
     "text": [
      "7.7\n"
     ]
    }
   ],
   "source": [
    "ratings = {\n",
    "    \"Ex Machina\": 7.7,\n",
    "    \"Mad Max: Fury Road\": 8.1,\n",
    "    \"1408\" : 6.8\n",
    "}\n",
    "\n",
    "print(ratings[\"Ex Machina\"]) # 7.7"
   ]
  },
  {
   "cell_type": "markdown",
   "metadata": {
    "cell_id": "2e8f3bf6-b5f5-4747-9ae1-3a49ce318cc8",
    "tags": []
   },
   "source": [
    "<p id=\"b36f\">\n",
    "In this case, the usage of a dictionary is a more intuitive and convenient way to represent the ratings.\n",
    "</p>\n",
    "<h2 id=\"12e9\">\n",
    "Dictionaries Operations\n",
    "</h2>\n",
    "<p id=\"4ad9\">\n",
    "We can\n",
    "<strong>\n",
    "add\n",
    "</strong>\n",
    ",\n",
    "<strong>\n",
    "update\n",
    "</strong>\n",
    ", and\n",
    "<strong>\n",
    "delete\n",
    "</strong>\n",
    "data from our dictionaries. When we want to add or update the data we can simply use this code <code>our_dict[key] = value</code>. When we want to delete a key-value pair we do this like that <code>del(our_dict[key])</code>.\n",
    "</p>"
   ]
  },
  {
   "cell_type": "code",
   "execution_count": 9,
   "metadata": {
    "cell_id": "d36211a2-d4a2-4a5c-8f2c-3ca88125b10a",
    "tags": []
   },
   "outputs": [
    {
     "name": "stdout",
     "output_type": "stream",
     "text": [
      "{'Ex Machina': 7.7, 'Mad Max: Fury Road': 8.1, '1408': 6.8, 'Deadpool': 8.0}\n",
      "{'Ex Machina': 7.8, 'Mad Max: Fury Road': 8.1, '1408': 6.8, 'Deadpool': 8.0}\n",
      "{'Ex Machina': 7.8, 'Mad Max: Fury Road': 8.1, 'Deadpool': 8.0}\n"
     ]
    }
   ],
   "source": [
    "ratings[\"Deadpool\"] = 8.0\n",
    "print(ratings) # {'Ex Machina': 7.7, 'Mad Max: Fury Road': 8.1, '1408': 6.8, 'Deadpool': 8.0}\n",
    "\n",
    "ratings[\"Ex Machina\"] = 7.8\n",
    "print(ratings) # {'Ex Machina': 7.8, 'Mad Max: Fury Road': 8.1, '1408': 6.8, 'Deadpool': 8.0}\n",
    "\n",
    "del(ratings[\"1408\"])\n",
    "print(ratings) # {'Ex Machina': 7.8, 'Mad Max: Fury Road': 8.1, 'Deadpool': 8.0}"
   ]
  },
  {
   "cell_type": "markdown",
   "metadata": {
    "cell_id": "c07c5fcc-2c81-41ca-b018-cd15f393acec",
    "tags": []
   },
   "source": [
    "<p id=\"0054\">\n",
    "We can also check if a given key is in our dictionary like that: <code>key in our_dict</code>.</p>\n"
   ]
  },
  {
   "cell_type": "code",
   "execution_count": 10,
   "metadata": {
    "cell_id": "d4090c28-7095-4664-850c-b0bcb876633f",
    "tags": []
   },
   "outputs": [
    {
     "name": "stdout",
     "output_type": "stream",
     "text": [
      "True\n"
     ]
    }
   ],
   "source": [
    "print(\"Ex Machina\" in ratings) # True"
   ]
  },
  {
   "cell_type": "markdown",
   "metadata": {
    "cell_id": "61a26c91-1645-4f11-95bf-22bbb882aab1",
    "tags": []
   },
   "source": [
    "<h1 id=\"70ce\">\n",
    "Functions\n",
    "</h1>\n",
    "<p id=\"df8c\">\n",
    "A function is a piece of reusable code solving a specific task. We can write our functions using the <code>def</code> keyword like that:\n",
    "</p>"
   ]
  },
  {
   "cell_type": "code",
   "execution_count": 11,
   "metadata": {
    "cell_id": "50c9ceda-9eb0-41b1-97ec-c4e831ea7caf",
    "tags": []
   },
   "outputs": [],
   "source": [
    "def is_prime(n):\n",
    "    if n <= 1:\n",
    "        return False\n",
    "    elif n <= 3:\n",
    "        return True\n",
    "    elif n % 2 == 0 or n % 3 == 0:\n",
    "        return False\n",
    "    current_number = 5\n",
    "    while current_number * current_number <= n:\n",
    "        if n % current_number == 0 or n % (current_number + 2) == 0:\n",
    "            return False\n",
    "        current_number = current_number + 6\n",
    "    return True"
   ]
  },
  {
   "cell_type": "markdown",
   "metadata": {
    "cell_id": "1b582701-6ead-44bb-8f93-346039aba968",
    "tags": []
   },
   "source": [
    "\n",
    "<p id=\"b707\">\n",
    "However, there are many built-in function in Python like <code>max(iterable [, key]),</code>, <code>min(iterable [, key])</code>, <code>type(object)</code>, <code>round(number [, ndigits])</code>, etc. So, in many cases when we need a function that solves a given task, we can research for a built-in function that solves this task or a Python package for that. We don’t have to “<a href=\"https://en.wikipedia.org/wiki/Reinventing_the_wheel\">reinventing the wheel</a>”.\n",
    "</p>\n",
    "<p id=\"8d75\">\n",
    "Most of the functions take some input and return some output. These functions have arguments, and Python matches the passed inputs in a function call to the arguments. If square brackets surround an argument, it’s optional.\n",
    "</p>\n",
    "<p id=\"8160\">\n",
    "We can use the function <code>help([object])</code> or <code>?function_name</code> to see the documentation of any function. If we’re using Jupyter Notebook, the <code>help</code> function will show us the documentation in the current cell, while the second option will show us the documentation in the pager.\n",
    "</p>\n",
    "<h1 id=\"ac88\">\n",
    "Methods\n",
    "</h1>\n",
    "<p id=\"4533\">\n",
    "We’ve seen that we have strings, floats, integers, booleans, etc. in Python. Each one of these data structures is an object. A method is a function that is available for a given object depending on the object’s type. So, each object has a specific type and a set of methods depending on this type.\n",
    "</p>"
   ]
  },
  {
   "cell_type": "code",
   "execution_count": 13,
   "metadata": {
    "cell_id": "9c3c53b9-369a-41ba-bcd7-a0e1f38f0fcc",
    "tags": []
   },
   "outputs": [
    {
     "name": "stdout",
     "output_type": "stream",
     "text": [
      "[10, 9, 9, 2, 0, 4, 1]\n",
      "[0, 1, 2, 4, 9, 9, 10]\n",
      "dict_keys(['Ex Machina', 'Mad Max: Fury Road', '1408'])\n",
      "dict_values([7.7, 8.1, 6.8])\n",
      "dict_items([('Ex Machina', 7.7), ('Mad Max: Fury Road', 8.1), ('1408', 6.8)])\n"
     ]
    }
   ],
   "source": [
    "# String methods\n",
    "text = \"Data Science\" \n",
    "text.upper() # \"DATA SCIENCE\"\n",
    "text.lower() # \"data science\"\n",
    "text.capitalize() # \"Data science\"\n",
    "\n",
    "# Lists methods\n",
    "numbers = [1, 4, 0, 2, 9, 9, 10]\n",
    "numbers.reverse()\n",
    "print(numbers) # [10, 9, 9, 2, 0, 4, 1]\n",
    "numbers.sort()\n",
    "print(numbers) # [0, 1, 2, 4, 9, 9, 10]\n",
    "\n",
    "# Dictionaris methods\n",
    "ratings = {\n",
    "    \"Ex Machina\": 7.7,\n",
    "    \"Mad Max: Fury Road\": 8.1,\n",
    "    \"1408\" : 6.8\n",
    "}\n",
    "\n",
    "print(ratings.keys()) # dict_keys(['Ex Machina', 'Mad Max: Fury Road', '1408'])\n",
    "print(ratings.values()) # dict_values([7.7, 8.1, 6.8])\n",
    "print(ratings.items()) # dict_items([('Ex Machina', 7.7), ('Mad Max: Fury Road', 8.1), ('1408', 6.8)])"
   ]
  },
  {
   "cell_type": "markdown",
   "metadata": {
    "cell_id": "d61a9d8f-7b3c-425e-a4fa-b2b46fae4986",
    "tags": []
   },
   "source": [
    "<p id=\"3b91\">\n",
    "Objects with different type can have methods with the same name. Depending on the object’s type, methods have different behavior.\n",
    "</p>"
   ]
  },
  {
   "cell_type": "code",
   "execution_count": 14,
   "metadata": {
    "cell_id": "82c70757-447e-4d5a-8732-c29303f5ae3a",
    "tags": []
   },
   "outputs": [
    {
     "data": {
      "text/plain": [
       "1"
      ]
     },
     "execution_count": 14,
     "metadata": {},
     "output_type": "execute_result"
    }
   ],
   "source": [
    "numbers = [10, 30, 55, 40, 8, 30]\n",
    "text = \"Data Science\"\n",
    "\n",
    "numbers.index(8)  # 4\n",
    "text.index(\"a\")   # 1\n",
    "\n",
    "numbers.count(30) # 2\n",
    "text.count(\"i\")   # 1dd"
   ]
  },
  {
   "cell_type": "markdown",
   "metadata": {
    "cell_id": "1c583634-af84-4495-8ea7-806c0968d03a",
    "tags": []
   },
   "source": [
    "<p id=\"cef1\">\n",
    "Watch out! Some methods can change the objects they are called on. For example, the <code>append()</code> method called on list type.\n",
    "</p>\n",
    "<h1 id=\"2ab5\">\n",
    "Packages\n",
    "</h1>\n",
    "<p id=\"2275\">\n",
    "A module is a file containing Python definitions and statements. Modules specify functions, methods and new Python types which solved particular problems.\n",
    "</p>\n",
    "<p id=\"7a4f\">\n",
    "A package is a collection of modules in directories. There are many available packages for Python covering different problems. For example, “NumPy”, “matplotlib”, “seaborn”, and “scikit-learn” are very famous data science packages.\n",
    "</p>\n",
    "<ul>\n",
    "<li id=\"de87\">\n",
    "“NumPy” is used for efficiently working with arrays\n",
    "</li>\n",
    "<li id=\"1957\">\n",
    "“matplotlib” and “seaborn” are popular libraries used for data visualization\n",
    "</li>\n",
    "<li id=\"2090\">\n",
    "“scikit-learn” is a powerful library for machine learning\n",
    "</li>\n",
    "</ul>\n",
    "<p id=\"6a4b\">\n",
    "There are some packages available in Python by default, but there are also so many packages that we need and that we don’t have by default. If we want to use some package, we have to have it installed already or just install it using pip (package maintenance system for Python).\n",
    "</p>\n",
    "<p id=\"6128\">\n",
    "However, there is also something called “Anaconda”.\n",
    "</p>\n",
    "<blockquote>\n",
    "<p id=\"3967\">\n",
    "Anaconda Distribution is a free, easy-to-install package manager, environment manager and Python distribution with a collection of 1,000+ open source packages with free community support.\n",
    "</p>\n",
    "</blockquote>\n",
    "<p id=\"4feb\">\n",
    "So, if you don’t want to install many packages, I’ll recommend you to use the “Anaconda”. There are so many useful packages in this distribution.\n",
    "</p>\n",
    "<h2 id=\"38a8\">\n",
    "Import Statements\n",
    "</h2>\n",
    "<p id=\"cbf2\">\n",
    "Once you have installed the needed packages, you can import them into your Python files. We can import an entire package, submodules or specific functions from it. Also, we can add an alias for a package. We can see the different ways of import statements from the examples below.\n",
    "</p>"
   ]
  },
  {
   "cell_type": "code",
   "execution_count": 15,
   "metadata": {
    "cell_id": "c04e61bd-0886-445e-aee7-6451b90de7df",
    "tags": []
   },
   "outputs": [],
   "source": [
    "import numpy\n",
    "numbers = numpy.array([3, 4, 20, 15, 7, 19, 0])"
   ]
  },
  {
   "cell_type": "code",
   "execution_count": 17,
   "metadata": {
    "cell_id": "0a388b5d-f06d-497d-8631-61821ef501f8",
    "tags": []
   },
   "outputs": [],
   "source": [
    "import numpy as np # np is an alias for the numpy package\n",
    "numbers = np.array([3, 4, 20, 15, 7, 19, 0]) # works fine\n",
    "numbers = numpy.array([3, 4, 20, 15, 7, 19, 0]) # NameError: name 'numpy' is not defined"
   ]
  },
  {
   "cell_type": "code",
   "execution_count": 18,
   "metadata": {
    "cell_id": "b31277ad-0ef2-4158-b862-7cb933bca531",
    "tags": []
   },
   "outputs": [],
   "source": [
    "# import the \"pyplot\" submodule from the \"matplotlib\" package with alias \"plt\"\n",
    "import matplotlib.pyplot as plt"
   ]
  },
  {
   "cell_type": "code",
   "execution_count": 19,
   "metadata": {
    "cell_id": "fdda5e0a-428a-4f55-b455-2a09940776e2",
    "tags": []
   },
   "outputs": [
    {
     "data": {
      "text/plain": [
       "numpy.ndarray"
      ]
     },
     "execution_count": 19,
     "metadata": {},
     "output_type": "execute_result"
    }
   ],
   "source": [
    "from numpy import array\n",
    "numbers = array([3, 4, 20, 15, 7, 19, 0]) # works fine\n",
    "numbers = numpy.array([3, 4, 20, 15, 7, 19, 0]) # NameError: name 'numpy' is not defined\n",
    "type(numbers) # numpy.ndarray"
   ]
  },
  {
   "cell_type": "markdown",
   "metadata": {
    "cell_id": "107e4ca8-40c1-46f8-a9f0-a3dd5fa09e4a",
    "tags": []
   },
   "source": [
    "<p id=\"ead5\">\n",
    "We can also do something like this <code>from numpy import *</code>. The asterisk symbol here means to import everything from that module. This import statement creates references in the current namespace to all public objects defined by the <code>numpy</code> module. In other words, we can just use all available functions from <code>numpy</code> only with their names without prefix. For example, now we can use the NumPy’s absolute function like that <code>absolute()</code> instead of <code>numpy.absolute()</code>.\n",
    "<br/><br/>\n",
    "However, I’m not recommending you to use that because:\n",
    "</p>\n",
    "<ul>\n",
    "<li id=\"3e30\">\n",
    "If we import all functions from some modules like that, the current namespace will be filled with so many functions and if someone looks our code, he or she can get confused from which package is a specific function.\n",
    "</li>\n",
    "<li id=\"0186\">\n",
    "If two modules have a function with the same name, the second import will override the function of the first.\n",
    "</li>\n",
    "</ul>\n",
    "<h1 id=\"e885\">\n",
    "NumPy\n",
    "</h1>\n",
    "<p id=\"6765\">\n",
    "NumPy is a fundamental package for scientific computing with Python. It’s very fast and easy to use. This package helps us to make calculations element-wise (element by element).\n",
    "</p>\n",
    "<p id=\"e9c5\">\n",
    "The regular Python list doesn’t know how to do operations element-wise. Of course, we can use Python lists, but they’re slow, and we need more code to achieve a wanted result. A better decision in most cases is to use <code>NumPy</code>.\n",
    "</p>\n",
    "<p id=\"f686\">\n",
    "Unlike the regular Python list, the NumPy array always has one single type. If we pass an array with different types to the <code>np.array()</code>, we can choose the wanted type using the parameter <code>dtype</code>. If this parameter is not given, then the type will be determined as the minimum type required to hold the objects.\n",
    "</p>"
   ]
  },
  {
   "cell_type": "code",
   "execution_count": 20,
   "metadata": {
    "cell_id": "95ea61d4-3ad2-40ee-8e03-3f3f9f1587ce",
    "tags": []
   },
   "outputs": [
    {
     "ename": "ValueError",
     "evalue": "could not convert string to float: 'Data Science'",
     "output_type": "error",
     "traceback": [
      "\u001b[0;31m---------------------------------------------------------------------------\u001b[0m",
      "\u001b[0;31mValueError\u001b[0m                                Traceback (most recent call last)",
      "\u001b[0;32m<ipython-input-20-868251ddcd97>\u001b[0m in \u001b[0;36m<module>\u001b[0;34m\u001b[0m\n\u001b[1;32m      4\u001b[0m \u001b[0;34m\u001b[0m\u001b[0m\n\u001b[1;32m      5\u001b[0m \u001b[0;31m# Invalid converting\u001b[0m\u001b[0;34m\u001b[0m\u001b[0;34m\u001b[0m\u001b[0;34m\u001b[0m\u001b[0m\n\u001b[0;32m----> 6\u001b[0;31m \u001b[0mnp\u001b[0m\u001b[0;34m.\u001b[0m\u001b[0marray\u001b[0m\u001b[0;34m(\u001b[0m\u001b[0;34m[\u001b[0m\u001b[0;32mFalse\u001b[0m\u001b[0;34m,\u001b[0m \u001b[0;36m42\u001b[0m\u001b[0;34m,\u001b[0m \u001b[0;34m\"Data Science\"\u001b[0m\u001b[0;34m]\u001b[0m\u001b[0;34m,\u001b[0m \u001b[0mdtype\u001b[0m \u001b[0;34m=\u001b[0m \u001b[0mfloat\u001b[0m\u001b[0;34m)\u001b[0m \u001b[0;31m# could not convert string to float: 'Data Science'\u001b[0m\u001b[0;34m\u001b[0m\u001b[0;34m\u001b[0m\u001b[0m\n\u001b[0m",
      "\u001b[0;31mValueError\u001b[0m: could not convert string to float: 'Data Science'"
     ]
    },
    {
     "ename": "ValueError",
     "evalue": "could not convert string to float: 'Data Science'",
     "output_type": "error",
     "traceback": [
      "\u001b[0;31m---------------------------------------------------------------------------\u001b[0m",
      "\u001b[0;31mValueError\u001b[0m                                Traceback (most recent call last)",
      "\u001b[0;32m<ipython-input-20-868251ddcd97>\u001b[0m in \u001b[0;36m<module>\u001b[0;34m\u001b[0m\n\u001b[1;32m      4\u001b[0m \u001b[0;34m\u001b[0m\u001b[0m\n\u001b[1;32m      5\u001b[0m \u001b[0;31m# Invalid converting\u001b[0m\u001b[0;34m\u001b[0m\u001b[0;34m\u001b[0m\u001b[0;34m\u001b[0m\u001b[0m\n\u001b[0;32m----> 6\u001b[0;31m \u001b[0mnp\u001b[0m\u001b[0;34m.\u001b[0m\u001b[0marray\u001b[0m\u001b[0;34m(\u001b[0m\u001b[0;34m[\u001b[0m\u001b[0;32mFalse\u001b[0m\u001b[0;34m,\u001b[0m \u001b[0;36m42\u001b[0m\u001b[0;34m,\u001b[0m \u001b[0;34m\"Data Science\"\u001b[0m\u001b[0;34m]\u001b[0m\u001b[0;34m,\u001b[0m \u001b[0mdtype\u001b[0m \u001b[0;34m=\u001b[0m \u001b[0mfloat\u001b[0m\u001b[0;34m)\u001b[0m \u001b[0;31m# could not convert string to float: 'Data Science'\u001b[0m\u001b[0;34m\u001b[0m\u001b[0;34m\u001b[0m\u001b[0m\n\u001b[0m",
      "\u001b[0;31mValueError\u001b[0m: could not convert string to float: 'Data Science'"
     ]
    }
   ],
   "source": [
    "np.array([False, 42, \"Data Science\"])       # array([\"False\", \"42\", \"Data Science\"], dtype=\"<U12\")\n",
    "np.array([False, 42], dtype = int)          # array([ 0, 42])\n",
    "np.array([False, 42, 53.99], dtype = float) # array([  0.  ,  42.  ,  53.99])\n",
    "\n",
    "# Invalid converting\n",
    "np.array([False, 42, \"Data Science\"], dtype = float) # could not convert string to float: 'Data Science'"
   ]
  },
  {
   "cell_type": "markdown",
   "metadata": {
    "cell_id": "8d61f1a4-1524-4391-9c88-8615d5875fae",
    "tags": []
   },
   "source": [
    "<p id=\"3980\">\n",
    "NumPy array comes with his own attributes and methods. Remember that the operators in Python behave differently on the different data types? Well, in NumPy the operators behave element-wise.\n",
    "</p>"
   ]
  },
  {
   "cell_type": "code",
   "execution_count": 24,
   "metadata": {
    "cell_id": "aa42af42-655a-45ec-8968-fa0f6fd451e9",
    "tags": []
   },
   "outputs": [
    {
     "data": {
      "text/plain": [
       "array([ -9, -18, -27])"
      ]
     },
     "execution_count": 24,
     "metadata": {},
     "output_type": "execute_result"
    }
   ],
   "source": [
    "np.array([37, 48, 50]) + 1 # array([38, 49, 51])\n",
    "np.array([20, 30, 40]) * 2 # array([40, 60, 80])\n",
    "np.array([42, 10, 60]) / 2 # array([ 21.,   5.,  30.])\n",
    "\n",
    "np.array([1, 2, 3]) * np.array([10, 20, 30]) # array([10, 40, 90])\n",
    "np.array([1, 2, 3]) - np.array([10, 20, 30]) # array([ -9, -18, -27])"
   ]
  },
  {
   "cell_type": "markdown",
   "metadata": {
    "cell_id": "7d0b2e6e-0d80-4800-80d2-e3d7c6644d22",
    "tags": []
   },
   "source": [
    "<p id=\"d692\">\n",
    "If we check the type of a NumPy array the result will be <code>numpy.ndarray</code>. Ndarray means n-dimensional array. In the examples above we used 1-dimensional arrays, but nothing can stop us to make 2, 3, 4 or more dimensional array. We can do subsetting on an array independently of that how much dimensions this array has. I’ll show you some examples with a 2-dimensional array.\n",
    "</p>"
   ]
  },
  {
   "cell_type": "code",
   "execution_count": 21,
   "metadata": {
    "cell_id": "69766c89-1386-427f-ab12-d4dc3f79f229",
    "tags": []
   },
   "outputs": [
    {
     "data": {
      "text/plain": [
       "array([[5, 6],\n",
       "       [8, 9]])"
      ]
     },
     "execution_count": 21,
     "metadata": {},
     "output_type": "execute_result"
    }
   ],
   "source": [
    "numbers = np.array([\n",
    "    [1, 2, 3],\n",
    "    [4, 5, 6],\n",
    "    [7, 8, 9],\n",
    "    [10, 11, 12]\n",
    "])\n",
    "\n",
    "numbers[2, 1]     # 8\n",
    "numbers[-1, 0]    # 10\n",
    "numbers[0]        # array([1, 2, 3])\n",
    "numbers[:, 0]     # array([ 1,  4,  7, 10])\n",
    "numbers[0:3, 2]   # array([3, 6, 9])\n",
    "numbers[1:3, 1:3] # array([[5, 6],[8, 9]])"
   ]
  },
  {
   "cell_type": "markdown",
   "metadata": {
    "cell_id": "f8d93ae6-7973-4c1f-bbff-9a17fe9f4516",
    "tags": []
   },
   "source": [
    "<p id=\"c00a\">\n",
    "If we want to see how many dimensional is our array and how much elements have each dimension, we can use the <code>shape</code> attribute. For 2-dimensional arrays, the first element of the tuple will be the number of rows and the second the number of the columns.\n",
    "</p>"
   ]
  },
  {
   "cell_type": "code",
   "execution_count": 22,
   "metadata": {
    "cell_id": "f91c5fca-c402-482b-bbe5-46e7c3b4d1b8",
    "tags": []
   },
   "outputs": [
    {
     "data": {
      "text/plain": [
       "(5, 3)"
      ]
     },
     "execution_count": 22,
     "metadata": {},
     "output_type": "execute_result"
    }
   ],
   "source": [
    "numbers = np.array([\n",
    "    [1, 2, 3],\n",
    "    [4, 5, 6],\n",
    "    [7, 8, 9],\n",
    "    [10, 11, 12],\n",
    "    [13, 14, 15]\n",
    "])\n",
    "\n",
    "numbers.shape # (5, 3)"
   ]
  },
  {
   "cell_type": "markdown",
   "metadata": {
    "cell_id": "02ebadc0-f6ea-4847-9020-31bc2b724731",
    "tags": []
   },
   "source": [
    "<h2 id=\"bfb9\">\n",
    "Basic Statistics\n",
    "</h2>\n",
    "<p id=\"3628\">\n",
    "The first step of analyzing data is to get familiar with the data. NumPy has a lot of methods which help us to do that. We’ll see some basic methods to make statistics on our data.\n",
    "</p>\n",
    "<ul>\n",
    "<li id=\"7c8f\">\n",
    "<code>np.mean()</code> - returns the arithmetic mean (the sum of the elements divided by the length of the elements).\n",
    "</li>\n",
    "<li id=\"ac08\">\n",
    "<code>np.median()</code> - returns the median (the middle value of a sorted copy of the passed array, if the length of array is even - the average of the two middle values will be computed)\n",
    "</li>\n",
    "<li id=\"3e99\">\n",
    "<code>np.corrcoef()</code> - returns a correlation matrix. This function is useful when we want to see if there is a correlation between two variables in our dataset or with other words, between two arrays with the same length.\n",
    "</li>\n",
    "<li id=\"fefa\">\n",
    "<code>np.std()</code> - returns a standard deviation\n",
    "</li>\n",
    "</ul>"
   ]
  },
  {
   "cell_type": "code",
   "execution_count": 23,
   "metadata": {
    "cell_id": "02846464-53fe-443e-b638-bb2daeb7d7a0",
    "tags": []
   },
   "outputs": [
    {
     "data": {
      "text/plain": [
       "array([[1.        , 0.88964891],\n",
       "       [0.88964891, 1.        ]])"
      ]
     },
     "execution_count": 23,
     "metadata": {},
     "output_type": "execute_result"
    }
   ],
   "source": [
    "\n",
    "learning_hours = [1, 2, 6, 4, 10]\n",
    "grades = [3, 4, 6, 5, 6]\n",
    "\n",
    "np.mean(learning_hours)   # 4.6\n",
    "np.median(learning_hours) # 4.0\n",
    "np.std(learning_hours)    # 3.2\n",
    "np.corrcoef(learning_hours, grades) # [[ 1.          0.88964891][ 0.88964891  1.        ]]"
   ]
  },
  {
   "cell_type": "markdown",
   "metadata": {
    "cell_id": "453c277c-87c1-45a7-a6d9-7c797cb8bd9c",
    "tags": []
   },
   "source": [
    "<p id=\"dbfc\">\n",
    "From the example above, we can see that there is a high correlation between the hours of learning and the grade.\n",
    "<br/>\n",
    "Also, we can see that:\n",
    "</p>\n",
    "<ul>\n",
    "<li id=\"9442\">\n",
    "the mean for the learning hours is 4.6\n",
    "</li>\n",
    "<li id=\"d496\">\n",
    "the median for the learning hours is 4.0\n",
    "</li>\n",
    "<li id=\"4c52\">\n",
    "the standard deviation for the learning hours is 3.2\n",
    "</li>\n",
    "</ul>\n",
    "<p id=\"bd51\">\n",
    "NumPy also has some basic functions like <code>np.sort()</code>and<code>np.sum()</code> which exists in the basic Python lists, too. An important note here is that NumPy enforces a single type in an array and this speeds up the calculations.\n",
    "</p>\n",
    "<h1 id=\"78b2\">\n",
    "Exercises\n",
    "</h1>\n",
    "<p id=\"35ed\">\n",
    "I have prepared some exercises including subsetting, element-wise operations, and basic statistics. If you want, you can try to solve them.\n",
    "</p>\n",
    "<ul>\n",
    "<li id=\"ca17\">\n",
    "<a href=\"https://gist.github.com/Ventsislav-Yordanov/fb14e1c52a2b4d18422dc7075d5a09cb\">\n",
    "Subsetting Python list\n",
    "</a>\n",
    "</li>\n",
    "<li id=\"9d69\">\n",
    "<a href=\"https://gist.github.com/Ventsislav-Yordanov/3ef4587b274643a161e4bea0952950ab\">\n",
    "Subsetting 2-dimensional NumPy array\n",
    "</a>\n",
    "</li>\n",
    "<li id=\"19e1\">\n",
    "<a href=\"https://gist.github.com/Ventsislav-Yordanov/48a5e73ae43c668e2f2f725a503ca96c\">\n",
    "NumPy element-wise operations\n",
    "</a>\n",
    "</li>\n",
    "<li id=\"9267\">\n",
    "<a href=\"https://gist.github.com/Ventsislav-Yordanov/8b7e47cda7b63bf97cfa5c80f05f50b3\">\n",
    "NumPy basic statistics\n",
    "</a>\n",
    "</li>\n",
    "</ul>"
   ]
  },
  {
   "cell_type": "code",
   "execution_count": null,
   "metadata": {},
   "outputs": [],
   "source": []
  }
 ],
 "metadata": {
  "deepnoteSessionId": "6ab8dd8a-179a-448c-a3ca-3b37af9986fc",
  "deepnote_execution_queue": [],
  "deepnote_notebook_id": "11db4f51-cc87-466e-a6a2-bd70b0a51ac5",
  "kernelspec": {
   "display_name": "Python 3",
   "language": "python",
   "name": "python3"
  },
  "language_info": {
   "codemirror_mode": {
    "name": "ipython",
    "version": 3
   },
   "file_extension": ".py",
   "mimetype": "text/x-python",
   "name": "python",
   "nbconvert_exporter": "python",
   "pygments_lexer": "ipython3",
   "version": "3.7.0"
  }
 },
 "nbformat": 4,
 "nbformat_minor": 2
}
